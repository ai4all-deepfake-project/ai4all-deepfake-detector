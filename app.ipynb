{
 "cells": [
  {
   "cell_type": "markdown",
   "id": "212f8c0e",
   "metadata": {},
   "source": [
    "#  DeepFake Detection App\n",
    "\n",
    "Upload a video, and this app will analyze selected frames to predict whether the content is **Real** or **Fake** using a trained deep learning model.\n",
    "\n",
    "### How it works:\n",
    "- Upload a `.mp4` file\n",
    "- The system extracts frames and runs predictions\n",
    "- Get a final prediction with confidence scores\n",
    "\n",
    "This app uses a model trained on a DeepFake dataset and wraps the logic in a separate `predictor.py` script for cleaner execution.\n",
    "\n"
   ]
  }
 ],
 "metadata": {
  "language_info": {
   "name": "python"
  }
 },
 "nbformat": 4,
 "nbformat_minor": 5
}
